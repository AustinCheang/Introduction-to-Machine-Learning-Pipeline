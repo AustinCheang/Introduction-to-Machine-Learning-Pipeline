{
 "cells": [
  {
   "cell_type": "markdown",
   "metadata": {
    "collapsed": false,
    "pycharm": {
     "name": "#%% md\n"
    }
   },
   "source": [
    "In this notebook, we quickly explore the dataset, Coporate Message from [data.world](https://data.world/crowdflower/corporate-messaging). This dataset contains posts on social media from different corporates.\n",
    "For each post, we can classify the content into different categories:\n",
    "- Information - Objective statements about the company or it's activities\n",
    "- Dialog - Replies to users, etc\n",
    "- Action - Messages that ask for votes or ask users to click on links, etc\n",
    "- Exclude - None of the above categories"
   ]
  },
  {
   "cell_type": "code",
   "execution_count": 1,
   "metadata": {
    "collapsed": false,
    "pycharm": {
     "name": "#%%\n"
    }
   },
   "outputs": [],
   "source": [
    "import re\n",
    "\n",
    "import numpy as np\n",
    "import pandas as pd\n",
    "from nltk.tokenize import word_tokenize\n",
    "from nltk.stem import WordNetLemmatizer\n",
    "\n",
    "from sklearn.model_selection import train_test_split\n",
    "from sklearn.feature_extraction.text import CountVectorizer, TfidfTransformer\n",
    "from sklearn.ensemble import RandomForestClassifier\n",
    "from sklearn.pipeline import Pipeline\n",
    "from sklearn.model_selection import GridSearchCV\n",
    "from sklearn.metrics import accuracy_score, confusion_matrix\n",
    "\n",
    "import matplotlib.pyplot as plt\n",
    "import seaborn as sns"
   ]
  },
  {
   "cell_type": "markdown",
   "metadata": {
    "collapsed": false,
    "pycharm": {
     "name": "#%% md\n"
    }
   },
   "source": [
    "# ETL"
   ]
  },
  {
   "cell_type": "markdown",
   "metadata": {
    "collapsed": false,
    "pycharm": {
     "name": "#%% md\n"
    }
   },
   "source": [
    "## Extract\n",
    "Extract phrase usual contains pulling data from different data sources such as:\n",
    "- Files: `.csv`, `.json`, `.xml`\n",
    "- Databases: `SQLite`, `mongoDB`, `Postgre`\n",
    "- API"
   ]
  },
  {
   "cell_type": "markdown",
   "metadata": {
    "collapsed": false,
    "pycharm": {
     "name": "#%% md\n"
    }
   },
   "source": [
    "### Exploratory Data Analysis"
   ]
  },
  {
   "cell_type": "markdown",
   "metadata": {
    "collapsed": false,
    "pycharm": {
     "name": "#%% md\n"
    }
   },
   "source": [
    "First of all, we load the dataset and have a look of the post message and related fields."
   ]
  },
  {
   "cell_type": "code",
   "execution_count": 2,
   "metadata": {
    "collapsed": false,
    "pycharm": {
     "name": "#%%\n"
    }
   },
   "outputs": [
    {
     "data": {
      "text/plain": "     _unit_id  _golden _unit_state  _trusted_judgments _last_judgment_at  \\\n0   662822308    False   finalized                   3      2/18/15 4:31   \n1   662822309    False   finalized                   3     2/18/15 13:55   \n2   662822310    False   finalized                   3      2/18/15 8:43   \n3   662822311    False   finalized                   3      2/18/15 9:13   \n4   662822312    False   finalized                   3      2/18/15 6:48   \n5   662822313    False   finalized                   3      2/18/15 8:51   \n6   662822314    False   finalized                   3     2/18/15 12:25   \n7   662822315    False   finalized                   3      2/18/15 9:39   \n8   662822316    False   finalized                   3      2/18/15 6:45   \n9   662822409    False   finalized                   3     2/18/15 12:32   \n10  662822411    False   finalized                   3     2/18/15 11:31   \n11  662822412    False   finalized                   3     2/18/15 13:45   \n12  662822413    False   finalized                   3     2/18/15 13:41   \n13  662822414    False   finalized                   3     2/18/15 13:35   \n14  662822415    False   finalized                   3     2/18/15 12:23   \n\n       category  category:confidence category_gold            id  \\\n0   Information               1.0000           NaN  4.365280e+17   \n1   Information               1.0000           NaN  3.860130e+17   \n2   Information               1.0000           NaN  3.795800e+17   \n3   Information               1.0000           NaN  3.675300e+17   \n4   Information               1.0000           NaN  3.603850e+17   \n5   Information               1.0000           NaN  3.476020e+17   \n6   Information               1.0000           NaN  3.423160e+17   \n7   Information               1.0000           NaN  3.273320e+17   \n8        Action               0.6747           NaN  2.973020e+17   \n9        Action               1.0000           NaN  4.568300e+17   \n10       Action               1.0000           NaN  4.557530e+17   \n11  Information               1.0000           NaN  4.534910e+17   \n12       Action               1.0000           NaN  4.455840e+17   \n13       Action               1.0000           NaN  4.408940e+17   \n14  Information               1.0000           NaN  4.339940e+17   \n\n        screenname                                               text  \n0         Barclays  Barclays CEO stresses the importance of regula...  \n1         Barclays  Barclays announces result of Rights Issue http...  \n2         Barclays  Barclays publishes its prospectus for its å£5....  \n3         Barclays  Barclays Group Finance Director Chris Lucas is...  \n4         Barclays  Barclays announces that Irene McDermott Brown ...  \n5         Barclays  Barclays response to PRA capital shortfall exe...  \n6         Barclays  Barclays sponsors #Zamynforum BBC World Servic...  \n7         Barclays  Barclays has today published its response to T...  \n8         Barclays  Read statement on #Barclays CEO bonus award 20...  \n9   barclayswealth  59% of workers are either looking to change jo...  \n10  barclayswealth  You no longer have one workforce. You have fiv...  \n11  barclayswealth  UK entrepreneurial activity in 2013 at a glanc...  \n12  barclayswealth  Emma Turner, Head of Client Philanthropy provi...  \n13  barclayswealth  ...Visit us @NAPFnews 5-7 March for more workf...  \n14  barclayswealth  Will the chill in #emergingmarkets last a litt...  ",
      "text/html": "<div>\n<style scoped>\n    .dataframe tbody tr th:only-of-type {\n        vertical-align: middle;\n    }\n\n    .dataframe tbody tr th {\n        vertical-align: top;\n    }\n\n    .dataframe thead th {\n        text-align: right;\n    }\n</style>\n<table border=\"1\" class=\"dataframe\">\n  <thead>\n    <tr style=\"text-align: right;\">\n      <th></th>\n      <th>_unit_id</th>\n      <th>_golden</th>\n      <th>_unit_state</th>\n      <th>_trusted_judgments</th>\n      <th>_last_judgment_at</th>\n      <th>category</th>\n      <th>category:confidence</th>\n      <th>category_gold</th>\n      <th>id</th>\n      <th>screenname</th>\n      <th>text</th>\n    </tr>\n  </thead>\n  <tbody>\n    <tr>\n      <th>0</th>\n      <td>662822308</td>\n      <td>False</td>\n      <td>finalized</td>\n      <td>3</td>\n      <td>2/18/15 4:31</td>\n      <td>Information</td>\n      <td>1.0000</td>\n      <td>NaN</td>\n      <td>4.365280e+17</td>\n      <td>Barclays</td>\n      <td>Barclays CEO stresses the importance of regula...</td>\n    </tr>\n    <tr>\n      <th>1</th>\n      <td>662822309</td>\n      <td>False</td>\n      <td>finalized</td>\n      <td>3</td>\n      <td>2/18/15 13:55</td>\n      <td>Information</td>\n      <td>1.0000</td>\n      <td>NaN</td>\n      <td>3.860130e+17</td>\n      <td>Barclays</td>\n      <td>Barclays announces result of Rights Issue http...</td>\n    </tr>\n    <tr>\n      <th>2</th>\n      <td>662822310</td>\n      <td>False</td>\n      <td>finalized</td>\n      <td>3</td>\n      <td>2/18/15 8:43</td>\n      <td>Information</td>\n      <td>1.0000</td>\n      <td>NaN</td>\n      <td>3.795800e+17</td>\n      <td>Barclays</td>\n      <td>Barclays publishes its prospectus for its å£5....</td>\n    </tr>\n    <tr>\n      <th>3</th>\n      <td>662822311</td>\n      <td>False</td>\n      <td>finalized</td>\n      <td>3</td>\n      <td>2/18/15 9:13</td>\n      <td>Information</td>\n      <td>1.0000</td>\n      <td>NaN</td>\n      <td>3.675300e+17</td>\n      <td>Barclays</td>\n      <td>Barclays Group Finance Director Chris Lucas is...</td>\n    </tr>\n    <tr>\n      <th>4</th>\n      <td>662822312</td>\n      <td>False</td>\n      <td>finalized</td>\n      <td>3</td>\n      <td>2/18/15 6:48</td>\n      <td>Information</td>\n      <td>1.0000</td>\n      <td>NaN</td>\n      <td>3.603850e+17</td>\n      <td>Barclays</td>\n      <td>Barclays announces that Irene McDermott Brown ...</td>\n    </tr>\n    <tr>\n      <th>5</th>\n      <td>662822313</td>\n      <td>False</td>\n      <td>finalized</td>\n      <td>3</td>\n      <td>2/18/15 8:51</td>\n      <td>Information</td>\n      <td>1.0000</td>\n      <td>NaN</td>\n      <td>3.476020e+17</td>\n      <td>Barclays</td>\n      <td>Barclays response to PRA capital shortfall exe...</td>\n    </tr>\n    <tr>\n      <th>6</th>\n      <td>662822314</td>\n      <td>False</td>\n      <td>finalized</td>\n      <td>3</td>\n      <td>2/18/15 12:25</td>\n      <td>Information</td>\n      <td>1.0000</td>\n      <td>NaN</td>\n      <td>3.423160e+17</td>\n      <td>Barclays</td>\n      <td>Barclays sponsors #Zamynforum BBC World Servic...</td>\n    </tr>\n    <tr>\n      <th>7</th>\n      <td>662822315</td>\n      <td>False</td>\n      <td>finalized</td>\n      <td>3</td>\n      <td>2/18/15 9:39</td>\n      <td>Information</td>\n      <td>1.0000</td>\n      <td>NaN</td>\n      <td>3.273320e+17</td>\n      <td>Barclays</td>\n      <td>Barclays has today published its response to T...</td>\n    </tr>\n    <tr>\n      <th>8</th>\n      <td>662822316</td>\n      <td>False</td>\n      <td>finalized</td>\n      <td>3</td>\n      <td>2/18/15 6:45</td>\n      <td>Action</td>\n      <td>0.6747</td>\n      <td>NaN</td>\n      <td>2.973020e+17</td>\n      <td>Barclays</td>\n      <td>Read statement on #Barclays CEO bonus award 20...</td>\n    </tr>\n    <tr>\n      <th>9</th>\n      <td>662822409</td>\n      <td>False</td>\n      <td>finalized</td>\n      <td>3</td>\n      <td>2/18/15 12:32</td>\n      <td>Action</td>\n      <td>1.0000</td>\n      <td>NaN</td>\n      <td>4.568300e+17</td>\n      <td>barclayswealth</td>\n      <td>59% of workers are either looking to change jo...</td>\n    </tr>\n    <tr>\n      <th>10</th>\n      <td>662822411</td>\n      <td>False</td>\n      <td>finalized</td>\n      <td>3</td>\n      <td>2/18/15 11:31</td>\n      <td>Action</td>\n      <td>1.0000</td>\n      <td>NaN</td>\n      <td>4.557530e+17</td>\n      <td>barclayswealth</td>\n      <td>You no longer have one workforce. You have fiv...</td>\n    </tr>\n    <tr>\n      <th>11</th>\n      <td>662822412</td>\n      <td>False</td>\n      <td>finalized</td>\n      <td>3</td>\n      <td>2/18/15 13:45</td>\n      <td>Information</td>\n      <td>1.0000</td>\n      <td>NaN</td>\n      <td>4.534910e+17</td>\n      <td>barclayswealth</td>\n      <td>UK entrepreneurial activity in 2013 at a glanc...</td>\n    </tr>\n    <tr>\n      <th>12</th>\n      <td>662822413</td>\n      <td>False</td>\n      <td>finalized</td>\n      <td>3</td>\n      <td>2/18/15 13:41</td>\n      <td>Action</td>\n      <td>1.0000</td>\n      <td>NaN</td>\n      <td>4.455840e+17</td>\n      <td>barclayswealth</td>\n      <td>Emma Turner, Head of Client Philanthropy provi...</td>\n    </tr>\n    <tr>\n      <th>13</th>\n      <td>662822414</td>\n      <td>False</td>\n      <td>finalized</td>\n      <td>3</td>\n      <td>2/18/15 13:35</td>\n      <td>Action</td>\n      <td>1.0000</td>\n      <td>NaN</td>\n      <td>4.408940e+17</td>\n      <td>barclayswealth</td>\n      <td>...Visit us @NAPFnews 5-7 March for more workf...</td>\n    </tr>\n    <tr>\n      <th>14</th>\n      <td>662822415</td>\n      <td>False</td>\n      <td>finalized</td>\n      <td>3</td>\n      <td>2/18/15 12:23</td>\n      <td>Information</td>\n      <td>1.0000</td>\n      <td>NaN</td>\n      <td>4.339940e+17</td>\n      <td>barclayswealth</td>\n      <td>Will the chill in #emergingmarkets last a litt...</td>\n    </tr>\n  </tbody>\n</table>\n</div>"
     },
     "execution_count": 2,
     "metadata": {},
     "output_type": "execute_result"
    }
   ],
   "source": [
    "df = pd.read_csv(\"corporate_messaging.csv\", encoding=\"latin-1\")\n",
    "df.head(15)"
   ]
  },
  {
   "cell_type": "code",
   "execution_count": 3,
   "metadata": {
    "collapsed": false,
    "pycharm": {
     "name": "#%%\n"
    }
   },
   "outputs": [
    {
     "data": {
      "text/plain": "(3118, 11)"
     },
     "execution_count": 3,
     "metadata": {},
     "output_type": "execute_result"
    }
   ],
   "source": [
    "df.shape"
   ]
  },
  {
   "cell_type": "markdown",
   "metadata": {
    "collapsed": false,
    "pycharm": {
     "name": "#%% md\n"
    }
   },
   "source": [
    "## Null Value Checking"
   ]
  },
  {
   "cell_type": "code",
   "execution_count": 4,
   "metadata": {
    "collapsed": false,
    "pycharm": {
     "name": "#%%\n"
    }
   },
   "outputs": [
    {
     "data": {
      "text/plain": "_unit_id                  0\n_golden                   0\n_unit_state               0\n_trusted_judgments        0\n_last_judgment_at       307\ncategory                  0\ncategory:confidence       0\ncategory_gold          2811\nid                        0\nscreenname                0\ntext                      0\ndtype: int64"
     },
     "execution_count": 4,
     "metadata": {},
     "output_type": "execute_result"
    }
   ],
   "source": [
    "df.isnull().sum()"
   ]
  },
  {
   "cell_type": "markdown",
   "metadata": {
    "collapsed": false,
    "pycharm": {
     "name": "#%% md\n"
    }
   },
   "source": [
    "## Number of corporates involve"
   ]
  },
  {
   "cell_type": "code",
   "execution_count": 5,
   "metadata": {
    "collapsed": false,
    "pycharm": {
     "name": "#%%\n"
    }
   },
   "outputs": [
    {
     "data": {
      "text/plain": "Nestle            914\npfizer_news       580\nCiti              440\nMerck             319\nbarclayswealth    301\nCitigroupBRK      269\nDanoneGroup       246\nC_PR               40\nBarclays            9\nName: screenname, dtype: int64"
     },
     "execution_count": 5,
     "metadata": {},
     "output_type": "execute_result"
    }
   ],
   "source": [
    "df.screenname.value_counts()"
   ]
  },
  {
   "cell_type": "markdown",
   "metadata": {
    "collapsed": false,
    "pycharm": {
     "name": "#%% md\n"
    }
   },
   "source": [
    "## Number of categories and their occurrences"
   ]
  },
  {
   "cell_type": "code",
   "execution_count": 6,
   "metadata": {
    "collapsed": false,
    "pycharm": {
     "name": "#%%\n"
    }
   },
   "outputs": [
    {
     "data": {
      "text/plain": "Information    2129\nAction          724\nDialogue        226\nExclude          39\nName: category, dtype: int64"
     },
     "execution_count": 6,
     "metadata": {},
     "output_type": "execute_result"
    }
   ],
   "source": [
    "df.category.value_counts()"
   ]
  },
  {
   "cell_type": "markdown",
   "metadata": {
    "collapsed": false,
    "pycharm": {
     "name": "#%% md\n"
    }
   },
   "source": [
    "Since we are interested in predicting a given text to its corresponding category, we only need the `text` and `category`. However, we only want the `text` which are not \"Exclude\" and high confidence level. We can extract the required by applying filters."
   ]
  },
  {
   "cell_type": "code",
   "execution_count": 7,
   "metadata": {
    "collapsed": false,
    "pycharm": {
     "name": "#%%\n"
    }
   },
   "outputs": [],
   "source": [
    "new_df = df[(df[\"category:confidence\"] == 1) & (df['category'] != 'Exclude')][['category', 'text']]"
   ]
  },
  {
   "cell_type": "code",
   "execution_count": 8,
   "metadata": {
    "collapsed": false,
    "pycharm": {
     "name": "#%%\n"
    }
   },
   "outputs": [
    {
     "name": "stdout",
     "output_type": "stream",
     "text": [
      "[Information]\n",
      "Barbara Rolls:  What we need to consider is that the water content of food has the biggest impact on energy density.  #NINS2013\n",
      "\n",
      "[Information]\n",
      "PFE is partnering w/IFP &amp  UN to sponsor Envision 2013: Stories of the Global Health Challenge #envisionfilm http://t.co/mMXAffWS61\n",
      "\n",
      "[Information]\n",
      "Enrobing delicate foods such as ice-cream in chocolate can help to hold their shape. #ChocolateCoveredFacts\n",
      "\n",
      "[Information]\n",
      "#Psoriasis is often thought of as a minor condition, but it is associated with an average 4 year reduction in life span #WPD13\n",
      "\n",
      "[Action]\n",
      "Today is a day full of jokes but your health is not a laughing matter.Find tips, tools and support to quit smoking at http://t.co/wwGouQrH\n",
      "\n"
     ]
    }
   ],
   "source": [
    "for row in new_df.sample(5).iterrows():\n",
    "    print(f\"[{row[1].category}]\\n{row[1].text}\\n\")"
   ]
  },
  {
   "cell_type": "markdown",
   "metadata": {
    "collapsed": false,
    "pycharm": {
     "name": "#%% md\n"
    }
   },
   "source": [
    "## Transform\n",
    "Transform phrase contains a lot of engineering works such as:\n",
    "- Cleaning data\n",
    "- Remove duplicated data and outliers\n",
    "- Impute data for missing values\n",
    "- Create dummy variables or One-hot encoding\n",
    "- Performa Scaling and Standardisation for continuous data"
   ]
  },
  {
   "cell_type": "markdown",
   "metadata": {
    "collapsed": false,
    "pycharm": {
     "name": "#%% md\n"
    }
   },
   "source": [
    "In this project, we do need any transform since we only have two columns: `text` and `category`. For handling text data, we apply transformation in our model pipeline."
   ]
  },
  {
   "cell_type": "markdown",
   "metadata": {
    "collapsed": false,
    "pycharm": {
     "name": "#%% md\n"
    }
   },
   "source": [
    "## Load\n",
    "Load Phrase contains loading the transformed data from different sources into a single data storage place such as database. In this project, our project is small and focus on creating a model pipeline. We can directly include the above steps to prepare the data work properly in training phrase."
   ]
  },
  {
   "cell_type": "code",
   "execution_count": 9,
   "metadata": {
    "collapsed": false,
    "pycharm": {
     "name": "#%%\n"
    }
   },
   "outputs": [],
   "source": [
    "def load_data():\n",
    "    df = pd.read_csv(\"corporate_messaging.csv\", encoding='latin-1')\n",
    "    df = df[(df[\"category:confidence\"] == 1) & (df['category'] != 'Exclude')]\n",
    "    X = df.text.values\n",
    "    y = df.category.values\n",
    "    return X, y"
   ]
  },
  {
   "cell_type": "markdown",
   "metadata": {
    "collapsed": false,
    "pycharm": {
     "name": "#%% md\n"
    }
   },
   "source": [
    "# Training Pipeline\n",
    "Text data, also known as Natural Language, cannot be directly used in training. We have to apply some transformations such that the model knows what the sentence mean and how they are different/similar to other text data.\n",
    "Common text preprocessing contains:\n",
    "1. Normalisation - Convert data into case-insensitive form\n",
    "2. Tokenisation - Break the sentence into words\n",
    "3. Remove stop words - Remove common meaningless words\n",
    "4. Stemming/lemmatisation - Convert word into root form"
   ]
  },
  {
   "cell_type": "markdown",
   "metadata": {
    "collapsed": false,
    "pycharm": {
     "name": "#%% md\n"
    }
   },
   "source": [
    "Our approach\n",
    "1. We first replace the url into a pattern that it still reflects url existence and remain correlation between texts\n",
    "2. We tokenise the text sentence using `nltk.tokenize.word_tokenize`\n",
    "3. We apply lemmatisation using `nltk.stem.WordNetLemmatizer`\n",
    "4. We clean the tokens by normalising them with `lower()`"
   ]
  },
  {
   "cell_type": "code",
   "execution_count": 10,
   "metadata": {
    "collapsed": false,
    "pycharm": {
     "name": "#%%\n"
    }
   },
   "outputs": [],
   "source": [
    "def preprocessing(text):\n",
    "    # regex for finding url in text\n",
    "    url_regex = \"http[s]?://(?:[a-zA-Z]|[0-9]|[$-_@.&+]|[!*\\(\\),]|(?:%[0-9a-fA-F][0-9a-fA-F]))+\"\n",
    "\n",
    "    urls = re.findall(url_regex, text)\n",
    "\n",
    "    for url in urls:\n",
    "        text = text.replace(url, \"url_placeholder\")\n",
    "\n",
    "    text_tokens = word_tokenize(text)\n",
    "    lemmatiser = WordNetLemmatizer()\n",
    "\n",
    "    text_tokens = [lemmatiser.lemmatize(token).lower().strip() for token in text_tokens]\n",
    "\n",
    "    return text_tokens"
   ]
  },
  {
   "cell_type": "markdown",
   "metadata": {
    "collapsed": false,
    "pycharm": {
     "name": "#%% md\n"
    }
   },
   "source": [
    "Converting the sentences into tokens are not enough to feed data into the model because model cannot directly learn from the text. Therefore, we can use\n",
    "1. **Bag of words** to make the tokens representative in the collection of documents\n",
    "2. Counting the term occurrence(t) sometimes does not reflect the important words. Although some terms might appear multiple times in a document, the terms might appear number of times in the rest of the documents. Therefore, we should use **TF-IDF** to find the most distinct words for each document(d)\n",
    "$$ TF(t, d) = \\frac{\\#\\ t \\ in \\ D }{\\# \\ Terms \\ in \\ d}$$\n",
    "$$ DF(t) = \\# \\ t\\ in \\ d$$\n",
    "$$ IDF(t) = \\log{\\frac{N}{DF(t) + 1}}$$\n",
    "$$ TFIDF(t, d) = TF(t, d) * IDF(t)$$"
   ]
  },
  {
   "cell_type": "markdown",
   "metadata": {
    "collapsed": false,
    "pycharm": {
     "name": "#%% md\n"
    }
   },
   "source": [
    "`Sklearn` provides methods and objects that we do not have to calculate all the above formulas above.\n",
    "- We can use ``sklearn.feature_extraction.text.CountVectorizer`` for **Bag of words**\n",
    "- Also, ``sklearn.feature_extraction.text.TfidfTransformer`` for TFIDF"
   ]
  },
  {
   "cell_type": "markdown",
   "metadata": {
    "collapsed": false,
    "pycharm": {
     "name": "#%% md\n"
    }
   },
   "source": [
    " Traditionally, we are declaring each transformer object and apply `fit_transform` for creating a classifier."
   ]
  },
  {
   "cell_type": "code",
   "execution_count": 11,
   "metadata": {
    "collapsed": false,
    "pycharm": {
     "name": "#%%\n"
    }
   },
   "outputs": [],
   "source": [
    "vect = CountVectorizer(tokenizer=preprocessing)\n",
    "tfidf = TfidfTransformer()\n",
    "classifier = RandomForestClassifier()\n",
    "\n",
    "# Train classifier\n",
    "# X_train_counts = vect.fit_transform(X_train)\n",
    "# X_train_tfidf = tfidf.fit_transform(X_train_counts)\n",
    "# clf.fit(X_train_tfidf, y_train)"
   ]
  },
  {
   "cell_type": "markdown",
   "metadata": {
    "collapsed": false,
    "pycharm": {
     "name": "#%% md\n"
    }
   },
   "source": [
    "## Pipeline setup"
   ]
  },
  {
   "cell_type": "markdown",
   "metadata": {
    "collapsed": false,
    "pycharm": {
     "name": "#%% md\n"
    }
   },
   "source": [
    "To improve the readable and maintainability of the model, `Sklearn` also provides a `Pipeline` object such that we can declare the transformer and classifier objects within a variable.\n",
    "\n",
    "Furthermore, a `Pipeline` can automates repetitive step Chaining all of your steps into one estimator allows user to fit and predict on all steps of your sequence automatically with one call. Therefore, user can focus on implementing higher level changes swiftly and efficiently."
   ]
  },
  {
   "cell_type": "code",
   "execution_count": 12,
   "metadata": {
    "collapsed": false,
    "pycharm": {
     "name": "#%%\n"
    }
   },
   "outputs": [],
   "source": [
    "pipeline = Pipeline([\n",
    "    ('vect', CountVectorizer(tokenizer=preprocessing)),\n",
    "    ('tfidf', TfidfTransformer()),\n",
    "    ('classifier', RandomForestClassifier()),\n",
    "])\n",
    "\n",
    "# Then we cna use fit to train the classifier as usual\n",
    "# pipeline.fit(X_train)\n",
    "# pipeline.predict(X_test)"
   ]
  },
  {
   "cell_type": "code",
   "execution_count": 13,
   "metadata": {
    "collapsed": false,
    "pycharm": {
     "name": "#%%\n"
    }
   },
   "outputs": [
    {
     "data": {
      "text/plain": "{'memory': None,\n 'steps': [('vect',\n   CountVectorizer(tokenizer=<function preprocessing at 0x15049d8b0>)),\n  ('tfidf', TfidfTransformer()),\n  ('classifier', RandomForestClassifier())],\n 'verbose': False,\n 'vect': CountVectorizer(tokenizer=<function preprocessing at 0x15049d8b0>),\n 'tfidf': TfidfTransformer(),\n 'classifier': RandomForestClassifier(),\n 'vect__analyzer': 'word',\n 'vect__binary': False,\n 'vect__decode_error': 'strict',\n 'vect__dtype': numpy.int64,\n 'vect__encoding': 'utf-8',\n 'vect__input': 'content',\n 'vect__lowercase': True,\n 'vect__max_df': 1.0,\n 'vect__max_features': None,\n 'vect__min_df': 1,\n 'vect__ngram_range': (1, 1),\n 'vect__preprocessor': None,\n 'vect__stop_words': None,\n 'vect__strip_accents': None,\n 'vect__token_pattern': '(?u)\\\\b\\\\w\\\\w+\\\\b',\n 'vect__tokenizer': <function __main__.preprocessing(text)>,\n 'vect__vocabulary': None,\n 'tfidf__norm': 'l2',\n 'tfidf__smooth_idf': True,\n 'tfidf__sublinear_tf': False,\n 'tfidf__use_idf': True,\n 'classifier__bootstrap': True,\n 'classifier__ccp_alpha': 0.0,\n 'classifier__class_weight': None,\n 'classifier__criterion': 'gini',\n 'classifier__max_depth': None,\n 'classifier__max_features': 'auto',\n 'classifier__max_leaf_nodes': None,\n 'classifier__max_samples': None,\n 'classifier__min_impurity_decrease': 0.0,\n 'classifier__min_impurity_split': None,\n 'classifier__min_samples_leaf': 1,\n 'classifier__min_samples_split': 2,\n 'classifier__min_weight_fraction_leaf': 0.0,\n 'classifier__n_estimators': 100,\n 'classifier__n_jobs': None,\n 'classifier__oob_score': False,\n 'classifier__random_state': None,\n 'classifier__verbose': 0,\n 'classifier__warm_start': False}"
     },
     "execution_count": 13,
     "metadata": {},
     "output_type": "execute_result"
    }
   ],
   "source": [
    "# We can easily see the parameters inside the pipeline using get_params()\n",
    "pipeline.get_params()"
   ]
  },
  {
   "cell_type": "markdown",
   "metadata": {
    "collapsed": false,
    "pycharm": {
     "name": "#%% md\n"
    }
   },
   "source": [
    "## Last but not least...\n",
    "When training a model, we want to test out multiple models and various parameters for our task. We can use Grid Search in `sklearn.model_selection.GridSearchCV` to try out all the combination of parameters and return the best parameters of our model.\n",
    "\n",
    "Below is the random parameters declared to try out with our model."
   ]
  },
  {
   "cell_type": "code",
   "execution_count": 14,
   "metadata": {
    "collapsed": false,
    "pycharm": {
     "name": "#%%\n"
    }
   },
   "outputs": [],
   "source": [
    "parameters = {\n",
    "    \"vect__ngram_range\": ((1,1), (1,2)),\n",
    "    \"vect__max_features\": (None, 100, 200),\n",
    "    \"tfidf__use_idf\": (True, False),\n",
    "    \"classifier__n_estimators\": [50, 100, 200]\n",
    "}"
   ]
  },
  {
   "cell_type": "markdown",
   "metadata": {
    "collapsed": false,
    "pycharm": {
     "name": "#%% md\n"
    }
   },
   "source": [
    "## Wrapping it up...\n",
    "We can declare a method calls `build_model()` to hold our pipeline and grid search parameters for simplicity"
   ]
  },
  {
   "cell_type": "code",
   "execution_count": 15,
   "metadata": {
    "collapsed": false,
    "pycharm": {
     "name": "#%%\n"
    }
   },
   "outputs": [],
   "source": [
    "def build_model():\n",
    "    pipeline = Pipeline([\n",
    "        ('vect', CountVectorizer(tokenizer=preprocessing)),\n",
    "        ('tfidf', TfidfTransformer()),\n",
    "        ('classifier', RandomForestClassifier()),\n",
    "    ])\n",
    "\n",
    "    parameters = {\n",
    "        \"vect__ngram_range\": ((1,1), (1,2)),\n",
    "        \"vect__max_df\": (0.5, 0.75, 1.0),\n",
    "        \"vect__max_features\": (None, 100, 200),\n",
    "        \"tfidf__use_idf\": (True, False),\n",
    "        \"classifier__n_estimators\": [50, 100, 200]\n",
    "    }\n",
    "\n",
    "    cv = GridSearchCV(pipeline, param_grid=parameters)\n",
    "\n",
    "    return cv"
   ]
  },
  {
   "cell_type": "markdown",
   "metadata": {
    "collapsed": false,
    "pycharm": {
     "name": "#%% md\n"
    }
   },
   "source": [
    "# Training and Prediction"
   ]
  },
  {
   "cell_type": "markdown",
   "metadata": {
    "collapsed": false,
    "pycharm": {
     "name": "#%% md\n"
    }
   },
   "source": [
    "We have arrived the final stage of our ETL and pipeline tutorial. In order to visualise our results and better understand which parameters can have the best accuracy of the test data. We are going to print the **accuracy of the model** and **visualise the confusion matrix** for knowing the distribution of mislabeled classes."
   ]
  },
  {
   "cell_type": "code",
   "execution_count": 16,
   "metadata": {
    "collapsed": false,
    "pycharm": {
     "name": "#%%\n"
    }
   },
   "outputs": [],
   "source": [
    "def print_results_comparison(y_test, y_pred):\n",
    "    true_series = pd.Series(y_test)\n",
    "    pred_series = pd.Series(y_pred)\n",
    "    true_pred_series = pd.concat([true_series, pred_series], axis=1)\n",
    "    return true_pred_series"
   ]
  },
  {
   "cell_type": "code",
   "execution_count": 17,
   "metadata": {
    "collapsed": false,
    "pycharm": {
     "name": "#%%\n"
    }
   },
   "outputs": [],
   "source": [
    "def plot_confusion_matrix(y_test, y_pred):\n",
    "    labels=np.unique(y_pred)\n",
    "    conf_mat = confusion_matrix(y_test, y_pred, labels=labels)\n",
    "\n",
    "    ax = plt.subplot()\n",
    "    sns.heatmap(conf_mat, annot=True, cmap=\"BuPu\", fmt=\"d\", ax=ax)\n",
    "    ax.set_xlabel('Predicted labels')\n",
    "    ax.set_ylabel('True labels')\n",
    "    ax.set_title('Confusion Matrix')\n",
    "    ax.xaxis.set_ticklabels(labels)\n",
    "    ax.yaxis.set_ticklabels(labels)"
   ]
  },
  {
   "cell_type": "code",
   "execution_count": 18,
   "metadata": {
    "collapsed": false,
    "pycharm": {
     "name": "#%%\n"
    }
   },
   "outputs": [],
   "source": [
    "def display_result(model, y_test, y_pred):\n",
    "    accuracy = accuracy_score(y_test, y_pred)\n",
    "\n",
    "    print(f\"We obtained an accuracy of: {accuracy * 100:.2f}%\")\n",
    "    print(f\"The Best parameters: {model.best_params_}\")\n",
    "\n",
    "    plot_confusion_matrix(y_test, y_pred)"
   ]
  },
  {
   "cell_type": "code",
   "execution_count": 19,
   "metadata": {
    "collapsed": false,
    "pycharm": {
     "name": "#%%\n"
    }
   },
   "outputs": [
    {
     "name": "stdout",
     "output_type": "stream",
     "text": [
      "We obtained an accuracy of: 94.80%\n",
      "The Best parameters: {'classifier__n_estimators': 100, 'tfidf__use_idf': True, 'vect__max_df': 0.5, 'vect__max_features': None, 'vect__ngram_range': (1, 1)}\n"
     ]
    },
    {
     "data": {
      "text/plain": "<Figure size 432x288 with 2 Axes>",
      "image/png": "[encoded data removed]"
     },
     "metadata": {},
     "output_type": "display_data"
    }
   ],
   "source": [
    "X, y = load_data()\n",
    "X_train, X_test, y_train, y_test = train_test_split(X, y, test_size=0.2)\n",
    "\n",
    "model = build_model()\n",
    "model.fit(X_train, y_train)\n",
    "y_pred = model.predict(X_test)\n",
    "\n",
    "display_result(model, y_test, y_pred)"
   ]
  },
  {
   "cell_type": "markdown",
   "metadata": {
    "collapsed": false,
    "pycharm": {
     "name": "#%% md\n"
    }
   },
   "source": [
    "We obtained a very high accuracy model by trying out different parameters using Grid Search. Feel free to try out more combinations to beat this accuracy!\n",
    "\n",
    "Below is the side-by-side comparison of `y_test` and `y_pred`"
   ]
  },
  {
   "cell_type": "code",
   "execution_count": 20,
   "metadata": {
    "collapsed": false,
    "pycharm": {
     "name": "#%%\n"
    }
   },
   "outputs": [
    {
     "data": {
      "text/plain": "               0            1\n0         Action       Action\n1       Dialogue  Information\n2    Information  Information\n3    Information  Information\n4    Information  Information\n..           ...          ...\n476       Action       Action\n477       Action  Information\n478  Information  Information\n479       Action  Information\n480       Action       Action\n\n[481 rows x 2 columns]",
      "text/html": "<div>\n<style scoped>\n    .dataframe tbody tr th:only-of-type {\n        vertical-align: middle;\n    }\n\n    .dataframe tbody tr th {\n        vertical-align: top;\n    }\n\n    .dataframe thead th {\n        text-align: right;\n    }\n</style>\n<table border=\"1\" class=\"dataframe\">\n  <thead>\n    <tr style=\"text-align: right;\">\n      <th></th>\n      <th>0</th>\n      <th>1</th>\n    </tr>\n  </thead>\n  <tbody>\n    <tr>\n      <th>0</th>\n      <td>Action</td>\n      <td>Action</td>\n    </tr>\n    <tr>\n      <th>1</th>\n      <td>Dialogue</td>\n      <td>Information</td>\n    </tr>\n    <tr>\n      <th>2</th>\n      <td>Information</td>\n      <td>Information</td>\n    </tr>\n    <tr>\n      <th>3</th>\n      <td>Information</td>\n      <td>Information</td>\n    </tr>\n    <tr>\n      <th>4</th>\n      <td>Information</td>\n      <td>Information</td>\n    </tr>\n    <tr>\n      <th>...</th>\n      <td>...</td>\n      <td>...</td>\n    </tr>\n    <tr>\n      <th>476</th>\n      <td>Action</td>\n      <td>Action</td>\n    </tr>\n    <tr>\n      <th>477</th>\n      <td>Action</td>\n      <td>Information</td>\n    </tr>\n    <tr>\n      <th>478</th>\n      <td>Information</td>\n      <td>Information</td>\n    </tr>\n    <tr>\n      <th>479</th>\n      <td>Action</td>\n      <td>Information</td>\n    </tr>\n    <tr>\n      <th>480</th>\n      <td>Action</td>\n      <td>Action</td>\n    </tr>\n  </tbody>\n</table>\n<p>481 rows × 2 columns</p>\n</div>"
     },
     "execution_count": 20,
     "metadata": {},
     "output_type": "execute_result"
    }
   ],
   "source": [
    "print_results_comparison(y_test, y_pred)"
   ]
  },
  {
   "cell_type": "code",
   "execution_count": null,
   "metadata": {
    "collapsed": false,
    "pycharm": {
     "name": "#%%\n"
    }
   },
   "outputs": [],
   "source": []
  }
 ],
 "metadata": {
  "kernelspec": {
   "display_name": "Python 3.9.6 ('dl')",
   "language": "python",
   "name": "python3"
  },
  "language_info": {
   "codemirror_mode": {
    "name": "ipython",
    "version": 3
   },
   "file_extension": ".py",
   "mimetype": "text/x-python",
   "name": "python",
   "nbconvert_exporter": "python",
   "pygments_lexer": "ipython3",
   "version": "3.9.6"
  },
  "vscode": {
   "interpreter": {
    "hash": "4634e6cd06f806901e8dc594d43b8c9ae9f52c6efa64d6b91bc7b9cd4b89e285"
   }
  }
 },
 "nbformat": 4,
 "nbformat_minor": 0
}